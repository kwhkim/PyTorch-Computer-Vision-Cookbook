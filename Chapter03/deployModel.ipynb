{
 "cells": [
  {
   "cell_type": "code",
   "execution_count": 1,
   "metadata": {},
   "outputs": [],
   "source": [
    "from torch import nn\n",
    "from torchvision import models\n",
    "\n",
    "# load model\n",
    "model_resnet18 = models.resnet18(pretrained=False)\n",
    "num_ftrs = model_resnet18.fc.in_features\n",
    "# change last layer\n",
    "num_classes=10\n",
    "model_resnet18.fc = nn.Linear(num_ftrs, num_classes)"
   ]
  },
  {
   "cell_type": "code",
   "execution_count": 2,
   "metadata": {},
   "outputs": [
    {
     "data": {
      "text/plain": [
       "<All keys matched successfully>"
      ]
     },
     "execution_count": 2,
     "metadata": {},
     "output_type": "execute_result"
    }
   ],
   "source": [
    "import torch \n",
    "\n",
    "# load state_dict into model\n",
    "path2weights=\"./models/resnet18_pretrained.pt\"\n",
    "model_resnet18.load_state_dict(torch.load(path2weights))"
   ]
  },
  {
   "cell_type": "code",
   "execution_count": 3,
   "metadata": {},
   "outputs": [],
   "source": [
    "# set model in evaluation mode\n",
    "model_resnet18.eval();"
   ]
  },
  {
   "cell_type": "code",
   "execution_count": 4,
   "metadata": {},
   "outputs": [],
   "source": [
    "# move model to cuda/gpu device\n",
    "if torch.cuda.is_available():\n",
    "    device = torch.device(\"cuda\")\n",
    "    model_resnet18=model_resnet18.to(device)"
   ]
  },
  {
   "cell_type": "code",
   "execution_count": 5,
   "metadata": {},
   "outputs": [],
   "source": [
    "def deploy_model(model,dataset,device, num_classes=10,sanity_check=False):\n",
    "\n",
    "    len_data=len(dataset)\n",
    "    \n",
    "    # initialize output tensor on CPU: due to GPU memory limits\n",
    "    y_out=torch.zeros(len_data,num_classes)\n",
    "    \n",
    "    # initialize ground truth on CPU: due to GPU memory limits\n",
    "    y_gt=np.zeros((len_data),dtype=\"uint8\")\n",
    "    \n",
    "    # move model to device\n",
    "    model=model.to(device)\n",
    "    \n",
    "    elapsed_times=[]\n",
    "    with torch.no_grad():\n",
    "        for i in range(len_data):\n",
    "            x,y=dataset[i]\n",
    "            y_gt[i]=y\n",
    "            start=time.time()    \n",
    "            yy=model(x.unsqueeze(0).to(device))\n",
    "            y_out[i]=torch.softmax(yy,dim=1)\n",
    "            elapsed=time.time()-start\n",
    "            elapsed_times.append(elapsed)\n",
    "\n",
    "            if sanity_check is True:\n",
    "                break\n",
    "\n",
    "    inference_time=np.mean(elapsed_times)*1000\n",
    "    print(\"average inference time per image on %s: %.2f ms \" %(device,inference_time))\n",
    "    return y_out.numpy(),y_gt"
   ]
  },
  {
   "cell_type": "markdown",
   "metadata": {},
   "source": [
    "## Loading Test Dataset"
   ]
  },
  {
   "cell_type": "code",
   "execution_count": null,
   "metadata": {},
   "outputs": [
    {
     "name": "stdout",
     "output_type": "stream",
     "text": [
      "Downloading http://ai.stanford.edu/~acoates/stl10/stl10_binary.tar.gz to ./data/stl10_binary.tar.gz\n"
     ]
    },
    {
     "data": {
      "application/vnd.jupyter.widget-view+json": {
       "model_id": "f3c3f299e3614ac1bcd4143b516e7d5d",
       "version_major": 2,
       "version_minor": 0
      },
      "text/plain": [
       "  0%|          | 0/2640397119 [00:00<?, ?it/s]"
      ]
     },
     "metadata": {},
     "output_type": "display_data"
    }
   ],
   "source": [
    "from torchvision import datasets\n",
    "import torchvision.transforms as transforms\n",
    "\n",
    "# define transformation\n",
    "data_transformer = transforms.Compose([transforms.ToTensor()])\n",
    "\n",
    "path2data=\"./data\"\n",
    "\n",
    "# loading data\n",
    "test0_ds=datasets.STL10(path2data, split='test', download=True,transform=data_transformer)\n",
    "print(test0_ds.data.shape)"
   ]
  },
  {
   "cell_type": "code",
   "execution_count": null,
   "metadata": {},
   "outputs": [],
   "source": [
    "from sklearn.model_selection import StratifiedShuffleSplit\n",
    "\n",
    "sss = StratifiedShuffleSplit(n_splits=1, test_size=0.2, random_state=0)\n",
    "\n",
    "indices=list(range(len(test0_ds)))\n",
    "y_test0=[y for _,y in test0_ds]\n",
    "for test_index, val_index in sss.split(indices, y_test0):\n",
    "    print(\"test:\", test_index, \"val:\", val_index)\n",
    "    print(len(val_index),len(test_index))"
   ]
  },
  {
   "cell_type": "code",
   "execution_count": null,
   "metadata": {},
   "outputs": [],
   "source": [
    "from torch.utils.data import Subset\n",
    "\n",
    "val_ds=Subset(test0_ds,val_index)\n",
    "test_ds=Subset(test0_ds,test_index)"
   ]
  },
  {
   "cell_type": "code",
   "execution_count": null,
   "metadata": {},
   "outputs": [],
   "source": [
    "mean=[0.4467106, 0.43980986, 0.40664646]\n",
    "std=[0.22414584,0.22148906,0.22389975]"
   ]
  },
  {
   "cell_type": "code",
   "execution_count": null,
   "metadata": {},
   "outputs": [],
   "source": [
    "test0_transformer = transforms.Compose([\n",
    "    transforms.ToTensor(),\n",
    "    transforms.Normalize(mean, std),\n",
    "    ])   "
   ]
  },
  {
   "cell_type": "code",
   "execution_count": null,
   "metadata": {},
   "outputs": [],
   "source": [
    "test0_ds.transform=test0_transformer"
   ]
  },
  {
   "cell_type": "code",
   "execution_count": null,
   "metadata": {},
   "outputs": [],
   "source": [
    "import time\n",
    "import numpy as np\n",
    "\n",
    "# deploy model \n",
    "y_out,y_gt=deploy_model(model_resnet18,val_ds,device=device,sanity_check=False)\n",
    "print(y_out.shape,y_gt.shape)\n"
   ]
  },
  {
   "cell_type": "code",
   "execution_count": null,
   "metadata": {},
   "outputs": [],
   "source": [
    "from sklearn.metrics import accuracy_score\n",
    "\n",
    "# get predictions\n",
    "y_pred = np.argmax(y_out,axis=1)\n",
    "print(y_pred.shape,y_gt.shape)\n",
    "\n",
    "# compute accuracy \n",
    "acc=accuracy_score(y_pred,y_gt)\n",
    "print(\"accuracy: %.2f\" %acc)\n"
   ]
  },
  {
   "cell_type": "code",
   "execution_count": null,
   "metadata": {},
   "outputs": [],
   "source": [
    "y_out,y_gt=deploy_model(model_resnet18,test_ds,device=device)\n",
    "\n",
    "y_pred = np.argmax(y_out,axis=1)\n",
    "acc=accuracy_score(y_pred,y_gt)\n",
    "print(acc)"
   ]
  },
  {
   "cell_type": "code",
   "execution_count": null,
   "metadata": {},
   "outputs": [],
   "source": [
    "from torchvision import utils\n",
    "import matplotlib.pyplot as plt\n",
    "import numpy as np\n",
    "%matplotlib inline\n",
    "np.random.seed(1)\n",
    "\n",
    "def imshow(inp, title=None):\n",
    "    mean=[0.4467106, 0.43980986, 0.40664646]\n",
    "    std=[0.22414584,0.22148906,0.22389975]\n",
    "    inp = inp.numpy().transpose((1, 2, 0))\n",
    "    mean = np.array(mean)\n",
    "    std = np.array(std)\n",
    "    inp = std * inp + mean\n",
    "    inp = np.clip(inp, 0, 1)\n",
    "    plt.imshow(inp)\n",
    "    if title is not None:\n",
    "        plt.title(title)\n",
    "    plt.pause(0.001)  # pause a bit so that plots are updated  \n",
    "\n",
    "grid_size=4\n",
    "rnd_inds=np.random.randint(0,len(test_ds),grid_size)\n",
    "print(\"image indices:\",rnd_inds)\n",
    "\n",
    "x_grid_test=[test_ds[i][0] for i in rnd_inds]\n",
    "y_grid_test=[(y_pred[i],y_gt[i]) for i in rnd_inds]\n",
    "\n",
    "x_grid_test=utils.make_grid(x_grid_test, nrow=4, padding=2)\n",
    "print(x_grid_test.shape)\n",
    "\n",
    "plt.rcParams['figure.figsize'] = (10, 5)\n",
    "imshow(x_grid_test,y_grid_test)"
   ]
  },
  {
   "cell_type": "code",
   "execution_count": null,
   "metadata": {},
   "outputs": [],
   "source": [
    "device_cpu = torch.device(\"cpu\")\n",
    "y_out,y_gt=deploy_model(model_resnet18,val_ds,device=device_cpu,sanity_check=False)\n",
    "print(y_out.shape,y_gt.shape)"
   ]
  },
  {
   "cell_type": "code",
   "execution_count": null,
   "metadata": {},
   "outputs": [],
   "source": []
  }
 ],
 "metadata": {
  "kernelspec": {
   "display_name": "p38torch",
   "language": "python",
   "name": "p38torch"
  },
  "language_info": {
   "codemirror_mode": {
    "name": "ipython",
    "version": 3
   },
   "file_extension": ".py",
   "mimetype": "text/x-python",
   "name": "python",
   "nbconvert_exporter": "python",
   "pygments_lexer": "ipython3",
   "version": "3.8.8"
  }
 },
 "nbformat": 4,
 "nbformat_minor": 2
}
