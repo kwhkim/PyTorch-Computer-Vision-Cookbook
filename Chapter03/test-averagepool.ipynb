{
 "cells": [
  {
   "cell_type": "code",
   "execution_count": 4,
   "id": "musical-violation",
   "metadata": {},
   "outputs": [],
   "source": [
    "import torch.nn as nn\n",
    "import torch"
   ]
  },
  {
   "cell_type": "code",
   "execution_count": 5,
   "id": "bigger-hello",
   "metadata": {},
   "outputs": [],
   "source": [
    " m = nn.AdaptiveAvgPool2d((5,7))\n",
    "input = torch.randn(1, 64, 8, 9)\n",
    "output = m(input)"
   ]
  },
  {
   "cell_type": "code",
   "execution_count": 7,
   "id": "scenic-sender",
   "metadata": {},
   "outputs": [
    {
     "data": {
      "text/plain": [
       "torch.Size([1, 64, 5, 7])"
      ]
     },
     "execution_count": 7,
     "metadata": {},
     "output_type": "execute_result"
    }
   ],
   "source": [
    "output.shape"
   ]
  },
  {
   "cell_type": "code",
   "execution_count": 21,
   "id": "moral-banana",
   "metadata": {},
   "outputs": [],
   "source": [
    "input = torch.Tensor([[[1,1,5,5],[7,7,1,1],[4,4,9,9]]])"
   ]
  },
  {
   "cell_type": "code",
   "execution_count": 22,
   "id": "civilian-handling",
   "metadata": {},
   "outputs": [],
   "source": [
    "input = input.type(torch.float)"
   ]
  },
  {
   "cell_type": "code",
   "execution_count": 23,
   "id": "primary-thesis",
   "metadata": {},
   "outputs": [
    {
     "data": {
      "text/plain": [
       "tensor([[[1., 1., 5., 5.],\n",
       "         [7., 7., 1., 1.],\n",
       "         [4., 4., 9., 9.]]])"
      ]
     },
     "execution_count": 23,
     "metadata": {},
     "output_type": "execute_result"
    }
   ],
   "source": [
    "input"
   ]
  },
  {
   "cell_type": "code",
   "execution_count": 24,
   "id": "knowing-latter",
   "metadata": {},
   "outputs": [],
   "source": [
    " m = nn.AdaptiveAvgPool2d((2,2))"
   ]
  },
  {
   "cell_type": "code",
   "execution_count": 25,
   "id": "patient-timeline",
   "metadata": {},
   "outputs": [
    {
     "data": {
      "text/plain": [
       "tensor([[[4.0000, 3.0000],\n",
       "         [5.5000, 5.0000]]])"
      ]
     },
     "execution_count": 25,
     "metadata": {},
     "output_type": "execute_result"
    }
   ],
   "source": [
    "m(input)"
   ]
  },
  {
   "cell_type": "code",
   "execution_count": null,
   "id": "urban-output",
   "metadata": {},
   "outputs": [],
   "source": []
  },
  {
   "cell_type": "code",
   "execution_count": null,
   "id": "passive-corner",
   "metadata": {},
   "outputs": [],
   "source": []
  }
 ],
 "metadata": {
  "kernelspec": {
   "display_name": "p38torch",
   "language": "python",
   "name": "p38torch"
  },
  "language_info": {
   "codemirror_mode": {
    "name": "ipython",
    "version": 3
   },
   "file_extension": ".py",
   "mimetype": "text/x-python",
   "name": "python",
   "nbconvert_exporter": "python",
   "pygments_lexer": "ipython3",
   "version": "3.8.8"
  }
 },
 "nbformat": 4,
 "nbformat_minor": 5
}
